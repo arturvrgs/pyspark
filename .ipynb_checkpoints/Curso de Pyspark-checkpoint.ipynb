{
 "cells": [
  {
   "cell_type": "code",
   "execution_count": 1,
   "id": "d0e56a92-23a4-41d6-8ef3-4ca8079abede",
   "metadata": {},
   "outputs": [
    {
     "name": "stdout",
     "output_type": "stream",
     "text": [
      "Requirement already satisfied: pyspark==3.3.2 in c:\\users\\whitecube\\anaconda3\\lib\\site-packages (3.3.2)\n",
      "Requirement already satisfied: py4j==0.10.9.5 in c:\\users\\whitecube\\anaconda3\\lib\\site-packages (from pyspark==3.3.2) (0.10.9.5)\n"
     ]
    }
   ],
   "source": [
    "!pip install pyspark==3.3.2"
   ]
  },
  {
   "cell_type": "code",
   "execution_count": 1,
   "id": "155736c6-b71b-4519-81dd-fa8d242edfd5",
   "metadata": {},
   "outputs": [],
   "source": [
    "from pyspark.sql import SparkSession"
   ]
  },
  {
   "cell_type": "code",
   "execution_count": 5,
   "id": "e4560f69-ca8e-412e-ab5a-1fff730a4880",
   "metadata": {},
   "outputs": [],
   "source": [
    "spark = SparkSession.builder.appName('Curso de Pyspark').getOrCreate;"
   ]
  },
  {
   "cell_type": "code",
   "execution_count": 9,
   "id": "0dfd4398-ce11-4b49-96bf-78eb19788a31",
   "metadata": {},
   "outputs": [
    {
     "data": {
      "text/plain": [
       "<bound method SparkSession.Builder.getOrCreate of <pyspark.sql.session.SparkSession.Builder object at 0x000002ABF0A650A0>>"
      ]
     },
     "execution_count": 9,
     "metadata": {},
     "output_type": "execute_result"
    }
   ],
   "source": [
    "spark"
   ]
  }
 ],
 "metadata": {
  "kernelspec": {
   "display_name": "Python [conda env:base] *",
   "language": "python",
   "name": "conda-base-py"
  },
  "language_info": {
   "codemirror_mode": {
    "name": "ipython",
    "version": 3
   },
   "file_extension": ".py",
   "mimetype": "text/x-python",
   "name": "python",
   "nbconvert_exporter": "python",
   "pygments_lexer": "ipython3",
   "version": "3.12.7"
  }
 },
 "nbformat": 4,
 "nbformat_minor": 5
}
